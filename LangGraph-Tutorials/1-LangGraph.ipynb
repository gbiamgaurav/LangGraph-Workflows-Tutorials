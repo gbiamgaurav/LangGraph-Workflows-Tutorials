{
 "cells": [
  {
   "cell_type": "code",
   "execution_count": 1,
   "id": "c5abbc89",
   "metadata": {},
   "outputs": [
    {
     "data": {
      "text/plain": [
       "True"
      ]
     },
     "execution_count": 1,
     "metadata": {},
     "output_type": "execute_result"
    }
   ],
   "source": [
    "import os \n",
    "from dotenv import load_dotenv\n",
    "load_dotenv()"
   ]
  },
  {
   "cell_type": "code",
   "execution_count": 2,
   "id": "41ced3e0",
   "metadata": {},
   "outputs": [],
   "source": [
    "from langchain_openai import AzureChatOpenAI\n",
    "\n",
    "llm = AzureChatOpenAI(\n",
    "    azure_endpoint=os.getenv(\"AZURE_OPENAI_ENDPOINT\"),\n",
    "    azure_deployment=os.getenv(\"AZURE_OPENAI_DEPLOYMENT_NAME\"),\n",
    "    api_version=os.getenv(\"AZURE_OPENAI_API_VERSION\"),\n",
    "    api_key=os.getenv(\"AZURE_OPENAI_API_KEY\")\n",
    ")"
   ]
  },
  {
   "cell_type": "code",
   "execution_count": 3,
   "id": "d622f783",
   "metadata": {},
   "outputs": [
    {
     "name": "stdout",
     "output_type": "stream",
     "text": [
      "Hello! How can I assist you today?\n"
     ]
    }
   ],
   "source": [
    "result = llm.invoke(\"Hi\")\n",
    "print(result.content)"
   ]
  },
  {
   "cell_type": "markdown",
   "id": "f9c49dda",
   "metadata": {},
   "source": [
    "#### Create the Agents"
   ]
  },
  {
   "cell_type": "code",
   "execution_count": 4,
   "metadata": {},
   "outputs": [],
   "source": [
    "def generate_article(input):\n",
    "    prompt = f\"Write an article on the given topic: {input}\"\n",
    "    response = llm.invoke(prompt).content\n",
    "    return f\"**Here is the article:**\\n\\n{response}\""
   ]
  },
  {
   "cell_type": "code",
   "execution_count": 5,
   "id": "035ad5e3",
   "metadata": {},
   "outputs": [
    {
     "data": {
      "text/html": [
       "<pre style=\"white-space:pre;overflow-x:auto;line-height:normal;font-family:Menlo,'DejaVu Sans Mono',consolas,'Courier New',monospace\"><span style=\"font-weight: bold\">Here is the article:</span>                                                                                               \n",
       "\n",
       "<span style=\"font-weight: bold\">Football in India: A Growing Passion</span>                                                                               \n",
       "\n",
       "Football, often termed the \"beautiful game,\" has captured hearts worldwide, weaving its way into various cultures  \n",
       "with its simplicity and universal appeal. While cricket has traditionally dominated the Indian sports landscape,   \n",
       "football has been carving out its niche, growing steadily in popularity and participation.                         \n",
       "\n",
       "<span style=\"font-weight: bold\">Historical Roots</span>                                                                                                   \n",
       "\n",
       "The roots of football in India can be traced back to the late 19th century during British colonial rule. It was in \n",
       "Kolkata, the then capital of British India, where the game found its earliest adherents. Clubs like Mohun Bagan    \n",
       "Athletic Club, established in 1889, and East Bengal Club, founded in 1920, became synonymous with Indian football's\n",
       "early history. Mohun Bagan's victory against the British team East Yorkshire Regiment in 1911 is often celebrated  \n",
       "as a significant moment in both Indian sport and nationalism.                                                      \n",
       "\n",
       "<span style=\"font-weight: bold\">The Golden Era</span>                                                                                                     \n",
       "\n",
       "The mid-20th century is often referred to as the \"golden era\" of Indian football. The Indian team shone on the     \n",
       "continental stage, winning gold at the 1951 and 1962 Asian Games and finishing fourth in the 1956 Melbourne        \n",
       "Olympics. Legendary figures like Sailen Manna, P.K. Banerjee, and Chuni Goswami became household names,            \n",
       "contributing significantly to the sport's popularity.                                                              \n",
       "\n",
       "<span style=\"font-weight: bold\">Challenges and Resurgence</span>                                                                                          \n",
       "\n",
       "Despite early successes, Indian football faced challenges post-1960s, with infrastructural limitations,            \n",
       "administrative hurdles, and the meteoric rise of cricket overshadowing the sport. However, the turn of the 21st    \n",
       "century marked the beginning of a resurgence. Recognizing the potential, the All India Football Federation (AIFF)  \n",
       "took steps to professionalize the sport, culminating in the launch of the I-League in 2007 and the Indian Super    \n",
       "League (ISL) in 2014.                                                                                              \n",
       "\n",
       "The ISL, in particular, infused fresh energy into Indian football, attracting international players and coaches,   \n",
       "enhancing the league's competitiveness and viewership. The league's franchise-based model, akin to the Indian      \n",
       "Premier League in cricket, helped popularize the sport among urban Indian youth, drawing significant corporate     \n",
       "sponsorship and media attention.                                                                                   \n",
       "\n",
       "<span style=\"font-weight: bold\">Grassroots Development</span>                                                                                             \n",
       "\n",
       "For football to flourish, investment at the grassroots level is crucial. Initiatives such as the AIFF's grassroots \n",
       "development program and the Reliance Foundation Youth Sports initiative aim to identify and nurture young talent   \n",
       "across the country. Moreover, partnerships with international clubs, such as Premier League teams and La Liga      \n",
       "academies, have offered Indian youngsters exposure to world-class training methodologies.                          \n",
       "\n",
       "<span style=\"font-weight: bold\">Women’s Football</span>                                                                                                   \n",
       "\n",
       "Women’s football in India, though still developing, has shown promise. The Indian women's national team has        \n",
       "consistently performed well in South Asian competitions, and domestic leagues like the Indian Women's League (IWL) \n",
       "are providing a platform for female players to showcase their talent. Increased media coverage and societal support\n",
       "are gradually encouraging more girls to pursue football.                                                           \n",
       "\n",
       "<span style=\"font-weight: bold\">The Road Ahead</span>                                                                                                     \n",
       "\n",
       "The future of football in India seems promising. The country has already hosted significant international events   \n",
       "like the FIFA U-17 World Cup in 2017, which highlighted India's ability to organize and generate interest in global\n",
       "football tournaments. With continued investment in infrastructure, youth development, and professional leagues,    \n",
       "India is poised to become a vital player on the Asian football stage.                                              \n",
       "\n",
       "In conclusion, football in India is at a fascinating juncture. With a rich history and a promising future, the     \n",
       "sport is riding a wave of renewed interest and enthusiasm. While cricket may still dominate, the beautiful game is \n",
       "steadily winning hearts and promises to be a significant part of India's sporting narrative in the years to come.  \n",
       "</pre>\n"
      ],
      "text/plain": [
       "\u001b[1mHere is the article:\u001b[0m                                                                                               \n",
       "\n",
       "\u001b[1mFootball in India: A Growing Passion\u001b[0m                                                                               \n",
       "\n",
       "Football, often termed the \"beautiful game,\" has captured hearts worldwide, weaving its way into various cultures  \n",
       "with its simplicity and universal appeal. While cricket has traditionally dominated the Indian sports landscape,   \n",
       "football has been carving out its niche, growing steadily in popularity and participation.                         \n",
       "\n",
       "\u001b[1mHistorical Roots\u001b[0m                                                                                                   \n",
       "\n",
       "The roots of football in India can be traced back to the late 19th century during British colonial rule. It was in \n",
       "Kolkata, the then capital of British India, where the game found its earliest adherents. Clubs like Mohun Bagan    \n",
       "Athletic Club, established in 1889, and East Bengal Club, founded in 1920, became synonymous with Indian football's\n",
       "early history. Mohun Bagan's victory against the British team East Yorkshire Regiment in 1911 is often celebrated  \n",
       "as a significant moment in both Indian sport and nationalism.                                                      \n",
       "\n",
       "\u001b[1mThe Golden Era\u001b[0m                                                                                                     \n",
       "\n",
       "The mid-20th century is often referred to as the \"golden era\" of Indian football. The Indian team shone on the     \n",
       "continental stage, winning gold at the 1951 and 1962 Asian Games and finishing fourth in the 1956 Melbourne        \n",
       "Olympics. Legendary figures like Sailen Manna, P.K. Banerjee, and Chuni Goswami became household names,            \n",
       "contributing significantly to the sport's popularity.                                                              \n",
       "\n",
       "\u001b[1mChallenges and Resurgence\u001b[0m                                                                                          \n",
       "\n",
       "Despite early successes, Indian football faced challenges post-1960s, with infrastructural limitations,            \n",
       "administrative hurdles, and the meteoric rise of cricket overshadowing the sport. However, the turn of the 21st    \n",
       "century marked the beginning of a resurgence. Recognizing the potential, the All India Football Federation (AIFF)  \n",
       "took steps to professionalize the sport, culminating in the launch of the I-League in 2007 and the Indian Super    \n",
       "League (ISL) in 2014.                                                                                              \n",
       "\n",
       "The ISL, in particular, infused fresh energy into Indian football, attracting international players and coaches,   \n",
       "enhancing the league's competitiveness and viewership. The league's franchise-based model, akin to the Indian      \n",
       "Premier League in cricket, helped popularize the sport among urban Indian youth, drawing significant corporate     \n",
       "sponsorship and media attention.                                                                                   \n",
       "\n",
       "\u001b[1mGrassroots Development\u001b[0m                                                                                             \n",
       "\n",
       "For football to flourish, investment at the grassroots level is crucial. Initiatives such as the AIFF's grassroots \n",
       "development program and the Reliance Foundation Youth Sports initiative aim to identify and nurture young talent   \n",
       "across the country. Moreover, partnerships with international clubs, such as Premier League teams and La Liga      \n",
       "academies, have offered Indian youngsters exposure to world-class training methodologies.                          \n",
       "\n",
       "\u001b[1mWomen’s Football\u001b[0m                                                                                                   \n",
       "\n",
       "Women’s football in India, though still developing, has shown promise. The Indian women's national team has        \n",
       "consistently performed well in South Asian competitions, and domestic leagues like the Indian Women's League (IWL) \n",
       "are providing a platform for female players to showcase their talent. Increased media coverage and societal support\n",
       "are gradually encouraging more girls to pursue football.                                                           \n",
       "\n",
       "\u001b[1mThe Road Ahead\u001b[0m                                                                                                     \n",
       "\n",
       "The future of football in India seems promising. The country has already hosted significant international events   \n",
       "like the FIFA U-17 World Cup in 2017, which highlighted India's ability to organize and generate interest in global\n",
       "football tournaments. With continued investment in infrastructure, youth development, and professional leagues,    \n",
       "India is poised to become a vital player on the Asian football stage.                                              \n",
       "\n",
       "In conclusion, football in India is at a fascinating juncture. With a rich history and a promising future, the     \n",
       "sport is riding a wave of renewed interest and enthusiasm. While cricket may still dominate, the beautiful game is \n",
       "steadily winning hearts and promises to be a significant part of India's sporting narrative in the years to come.  \n"
      ]
     },
     "execution_count": 5,
     "metadata": {},
     "output_type": "execute_result"
    }
   ],
   "source": [
    "from rich.markdown import Markdown\n",
    "\n",
    "article_content = generate_article(\"Football in India\")\n",
    "markdown_object = Markdown(article_content)\n",
    "markdown_object"
   ]
  },
  {
   "cell_type": "code",
   "execution_count": 8,
   "metadata": {},
   "outputs": [],
   "source": [
    "def create_summary(article):\n",
    "    prompt = f\"Summarize the article {article} in 5 points\"\n",
    "    response = llm.invoke(prompt).content\n",
    "    return f\"**Here is the summary:**\\n\\n{response}\""
   ]
  },
  {
   "cell_type": "code",
   "execution_count": 9,
   "metadata": {},
   "outputs": [
    {
     "data": {
      "text/html": [
       "<pre style=\"white-space:pre;overflow-x:auto;line-height:normal;font-family:Menlo,'DejaVu Sans Mono',consolas,'Courier New',monospace\"><span style=\"font-weight: bold\">Here is the summary:</span>                                                                                               \n",
       "\n",
       "Sure, here is a general summary of key points typically covered in discussions or articles about football in India:\n",
       "\n",
       "<span style=\"color: #808000; text-decoration-color: #808000; font-weight: bold\"> 1 </span><span style=\"font-weight: bold\">History and Development</span>: Football in India has historical roots dating back to the 19th century, introduced     \n",
       "<span style=\"color: #808000; text-decoration-color: #808000; font-weight: bold\">   </span>during the British colonial era. The sport gained popularity in regions like West Bengal, Goa, Kerala, and the  \n",
       "<span style=\"color: #808000; text-decoration-color: #808000; font-weight: bold\">   </span>Northeast, with early clubs such as Mohun Bagan playing significant roles in its development.                   \n",
       "<span style=\"color: #808000; text-decoration-color: #808000; font-weight: bold\"> 2 </span><span style=\"font-weight: bold\">Domestic Competitions</span>: India's domestic football competitions include the Indian Super League (ISL) and the     \n",
       "<span style=\"color: #808000; text-decoration-color: #808000; font-weight: bold\">   </span>I-League. The ISL, launched in 2014, has rapidly gained prominence, attracting international players and        \n",
       "<span style=\"color: #808000; text-decoration-color: #808000; font-weight: bold\">   </span>increased media attention, while the I-League remains crucial for developing local talent.                      \n",
       "<span style=\"color: #808000; text-decoration-color: #808000; font-weight: bold\"> 3 </span><span style=\"font-weight: bold\">National Team</span>: The Indian national football team, known as the Blue Tigers, has had varying success on the      \n",
       "<span style=\"color: #808000; text-decoration-color: #808000; font-weight: bold\">   </span>international stage. They have historically been considered strong in Asia, with notable achievements including \n",
       "<span style=\"color: #808000; text-decoration-color: #808000; font-weight: bold\">   </span>winning the Asian Games in 1951 and 1962, but have faced challenges in competing with top-tier teams.           \n",
       "<span style=\"color: #808000; text-decoration-color: #808000; font-weight: bold\"> 4 </span><span style=\"font-weight: bold\">Youth Development and Infrastructure</span>: Efforts to improve football in India focus on enhancing youth development \n",
       "<span style=\"color: #808000; text-decoration-color: #808000; font-weight: bold\">   </span>programs and infrastructure. Several academies and grassroots initiatives aim to identify and nurture young     \n",
       "<span style=\"color: #808000; text-decoration-color: #808000; font-weight: bold\">   </span>talent, improving the overall standards and future prospects of Indian football.                                \n",
       "<span style=\"color: #808000; text-decoration-color: #808000; font-weight: bold\"> 5 </span><span style=\"font-weight: bold\">Challenges and Potential</span>: Despite its popularity, football in India faces challenges such as competition from   \n",
       "<span style=\"color: #808000; text-decoration-color: #808000; font-weight: bold\">   </span>cricket, limited infrastructure, and financial constraints. However, there is potential for growth, given the   \n",
       "<span style=\"color: #808000; text-decoration-color: #808000; font-weight: bold\">   </span>large fan base, government and private investments, and increasing participation among the youth.               \n",
       "</pre>\n"
      ],
      "text/plain": [
       "\u001b[1mHere is the summary:\u001b[0m                                                                                               \n",
       "\n",
       "Sure, here is a general summary of key points typically covered in discussions or articles about football in India:\n",
       "\n",
       "\u001b[1;33m 1 \u001b[0m\u001b[1mHistory and Development\u001b[0m: Football in India has historical roots dating back to the 19th century, introduced     \n",
       "\u001b[1;33m   \u001b[0mduring the British colonial era. The sport gained popularity in regions like West Bengal, Goa, Kerala, and the  \n",
       "\u001b[1;33m   \u001b[0mNortheast, with early clubs such as Mohun Bagan playing significant roles in its development.                   \n",
       "\u001b[1;33m 2 \u001b[0m\u001b[1mDomestic Competitions\u001b[0m: India's domestic football competitions include the Indian Super League (ISL) and the     \n",
       "\u001b[1;33m   \u001b[0mI-League. The ISL, launched in 2014, has rapidly gained prominence, attracting international players and        \n",
       "\u001b[1;33m   \u001b[0mincreased media attention, while the I-League remains crucial for developing local talent.                      \n",
       "\u001b[1;33m 3 \u001b[0m\u001b[1mNational Team\u001b[0m: The Indian national football team, known as the Blue Tigers, has had varying success on the      \n",
       "\u001b[1;33m   \u001b[0minternational stage. They have historically been considered strong in Asia, with notable achievements including \n",
       "\u001b[1;33m   \u001b[0mwinning the Asian Games in 1951 and 1962, but have faced challenges in competing with top-tier teams.           \n",
       "\u001b[1;33m 4 \u001b[0m\u001b[1mYouth Development and Infrastructure\u001b[0m: Efforts to improve football in India focus on enhancing youth development \n",
       "\u001b[1;33m   \u001b[0mprograms and infrastructure. Several academies and grassroots initiatives aim to identify and nurture young     \n",
       "\u001b[1;33m   \u001b[0mtalent, improving the overall standards and future prospects of Indian football.                                \n",
       "\u001b[1;33m 5 \u001b[0m\u001b[1mChallenges and Potential\u001b[0m: Despite its popularity, football in India faces challenges such as competition from   \n",
       "\u001b[1;33m   \u001b[0mcricket, limited infrastructure, and financial constraints. However, there is potential for growth, given the   \n",
       "\u001b[1;33m   \u001b[0mlarge fan base, government and private investments, and increasing participation among the youth.               \n"
      ]
     },
     "execution_count": 9,
     "metadata": {},
     "output_type": "execute_result"
    }
   ],
   "source": [
    "from rich.markdown import Markdown\n",
    "\n",
    "article_summmary = create_summary(\"Football in India\")\n",
    "markdown_object = Markdown(article_summmary)\n",
    "markdown_object"
   ]
  },
  {
   "cell_type": "markdown",
   "id": "5e030d9e",
   "metadata": {},
   "source": [
    "#### Create Workflow"
   ]
  },
  {
   "cell_type": "code",
   "execution_count": 11,
   "metadata": {},
   "outputs": [],
   "source": [
    "from langgraph.graph import Graph, START, END\n",
    "graph = Graph()\n",
    "\n",
    "# Add Nodes\n",
    "graph.add_node(\"generate_article\", generate_article)\n",
    "graph.add_node(\"create_summary\", create_summary)\n",
    "\n",
    "# Add Edges\n",
    "graph.add_edge(\"generate_article\", \"create_summary\")\n",
    "\n",
    "# START\n",
    "graph.add_edge(START, \"generate_article\")\n",
    "\n",
    "# END\n",
    "graph.add_edge(\"create_summary\", END)\n",
    "\n",
    "# Compile\n",
    "app = graph.compile()"
   ]
  },
  {
   "cell_type": "code",
   "execution_count": 12,
   "metadata": {},
   "outputs": [
    {
     "data": {
      "text/plain": [
       "\"**Here is the summary:**\\n\\n1. **Technological Innovations**: By 2025, cricket has integrated advanced technologies such as smart wearables and AI-enhanced Decision Review Systems for real-time performance feedback and fair play. Broadcasting innovations, including AR and VR, provide immersive experiences for fans.\\n\\n2. **New Formats and Competitions**: The sport has adopted new, shorter formats like The Hundred and T10 leagues, enhancing accessibility and entertainment. Franchise-based leagues have expanded, offering financial security for players and diversifying the cricket calendar.\\n\\n3. **Inclusivity and Gender Equality**: Women's cricket has achieved parity with men's, with equal pay and thriving leagues. Efforts to globalize the sport have integrated it into new markets, fostering a more diverse range of participating nations in international tournaments.\\n\\n4. **Sustainability Initiatives**: Cricket emphasizes environmental responsibility, implementing solar-powered stadiums and eco-friendly travel policies. Green Protocols at major tournaments set a standard for sustainable practices in sports.\\n\\n5. **The Role of Esports**: Virtual cricket leagues have bridged traditional cricket with esports, engaging global gamers and fans while introducing cricket's strategic elements to new audiences.\""
      ]
     },
     "execution_count": 12,
     "metadata": {},
     "output_type": "execute_result"
    }
   ],
   "source": [
    "app.invoke(\"Cricket in 2025\")"
   ]
  },
  {
   "cell_type": "code",
   "execution_count": 13,
   "metadata": {},
   "outputs": [
    {
     "data": {
      "text/html": [
       "<pre style=\"white-space:pre;overflow-x:auto;line-height:normal;font-family:Menlo,'DejaVu Sans Mono',consolas,'Courier New',monospace\"><span style=\"font-weight: bold\">Here is the summary:</span>                                                                                               \n",
       "\n",
       "Sure, here is a general summary of key points typically covered in discussions or articles about football in India:\n",
       "\n",
       "<span style=\"color: #808000; text-decoration-color: #808000; font-weight: bold\"> 1 </span><span style=\"font-weight: bold\">History and Development</span>: Football in India has historical roots dating back to the 19th century, introduced     \n",
       "<span style=\"color: #808000; text-decoration-color: #808000; font-weight: bold\">   </span>during the British colonial era. The sport gained popularity in regions like West Bengal, Goa, Kerala, and the  \n",
       "<span style=\"color: #808000; text-decoration-color: #808000; font-weight: bold\">   </span>Northeast, with early clubs such as Mohun Bagan playing significant roles in its development.                   \n",
       "<span style=\"color: #808000; text-decoration-color: #808000; font-weight: bold\"> 2 </span><span style=\"font-weight: bold\">Domestic Competitions</span>: India's domestic football competitions include the Indian Super League (ISL) and the     \n",
       "<span style=\"color: #808000; text-decoration-color: #808000; font-weight: bold\">   </span>I-League. The ISL, launched in 2014, has rapidly gained prominence, attracting international players and        \n",
       "<span style=\"color: #808000; text-decoration-color: #808000; font-weight: bold\">   </span>increased media attention, while the I-League remains crucial for developing local talent.                      \n",
       "<span style=\"color: #808000; text-decoration-color: #808000; font-weight: bold\"> 3 </span><span style=\"font-weight: bold\">National Team</span>: The Indian national football team, known as the Blue Tigers, has had varying success on the      \n",
       "<span style=\"color: #808000; text-decoration-color: #808000; font-weight: bold\">   </span>international stage. They have historically been considered strong in Asia, with notable achievements including \n",
       "<span style=\"color: #808000; text-decoration-color: #808000; font-weight: bold\">   </span>winning the Asian Games in 1951 and 1962, but have faced challenges in competing with top-tier teams.           \n",
       "<span style=\"color: #808000; text-decoration-color: #808000; font-weight: bold\"> 4 </span><span style=\"font-weight: bold\">Youth Development and Infrastructure</span>: Efforts to improve football in India focus on enhancing youth development \n",
       "<span style=\"color: #808000; text-decoration-color: #808000; font-weight: bold\">   </span>programs and infrastructure. Several academies and grassroots initiatives aim to identify and nurture young     \n",
       "<span style=\"color: #808000; text-decoration-color: #808000; font-weight: bold\">   </span>talent, improving the overall standards and future prospects of Indian football.                                \n",
       "<span style=\"color: #808000; text-decoration-color: #808000; font-weight: bold\"> 5 </span><span style=\"font-weight: bold\">Challenges and Potential</span>: Despite its popularity, football in India faces challenges such as competition from   \n",
       "<span style=\"color: #808000; text-decoration-color: #808000; font-weight: bold\">   </span>cricket, limited infrastructure, and financial constraints. However, there is potential for growth, given the   \n",
       "<span style=\"color: #808000; text-decoration-color: #808000; font-weight: bold\">   </span>large fan base, government and private investments, and increasing participation among the youth.               \n",
       "</pre>\n"
      ],
      "text/plain": [
       "\u001b[1mHere is the summary:\u001b[0m                                                                                               \n",
       "\n",
       "Sure, here is a general summary of key points typically covered in discussions or articles about football in India:\n",
       "\n",
       "\u001b[1;33m 1 \u001b[0m\u001b[1mHistory and Development\u001b[0m: Football in India has historical roots dating back to the 19th century, introduced     \n",
       "\u001b[1;33m   \u001b[0mduring the British colonial era. The sport gained popularity in regions like West Bengal, Goa, Kerala, and the  \n",
       "\u001b[1;33m   \u001b[0mNortheast, with early clubs such as Mohun Bagan playing significant roles in its development.                   \n",
       "\u001b[1;33m 2 \u001b[0m\u001b[1mDomestic Competitions\u001b[0m: India's domestic football competitions include the Indian Super League (ISL) and the     \n",
       "\u001b[1;33m   \u001b[0mI-League. The ISL, launched in 2014, has rapidly gained prominence, attracting international players and        \n",
       "\u001b[1;33m   \u001b[0mincreased media attention, while the I-League remains crucial for developing local talent.                      \n",
       "\u001b[1;33m 3 \u001b[0m\u001b[1mNational Team\u001b[0m: The Indian national football team, known as the Blue Tigers, has had varying success on the      \n",
       "\u001b[1;33m   \u001b[0minternational stage. They have historically been considered strong in Asia, with notable achievements including \n",
       "\u001b[1;33m   \u001b[0mwinning the Asian Games in 1951 and 1962, but have faced challenges in competing with top-tier teams.           \n",
       "\u001b[1;33m 4 \u001b[0m\u001b[1mYouth Development and Infrastructure\u001b[0m: Efforts to improve football in India focus on enhancing youth development \n",
       "\u001b[1;33m   \u001b[0mprograms and infrastructure. Several academies and grassroots initiatives aim to identify and nurture young     \n",
       "\u001b[1;33m   \u001b[0mtalent, improving the overall standards and future prospects of Indian football.                                \n",
       "\u001b[1;33m 5 \u001b[0m\u001b[1mChallenges and Potential\u001b[0m: Despite its popularity, football in India faces challenges such as competition from   \n",
       "\u001b[1;33m   \u001b[0mcricket, limited infrastructure, and financial constraints. However, there is potential for growth, given the   \n",
       "\u001b[1;33m   \u001b[0mlarge fan base, government and private investments, and increasing participation among the youth.               \n"
      ]
     },
     "execution_count": 13,
     "metadata": {},
     "output_type": "execute_result"
    }
   ],
   "source": [
    "final_app = app.invoke(\"Cricket in 2025\")\n",
    "markdown_object = Markdown(article_summmary)\n",
    "markdown_object"
   ]
  },
  {
   "cell_type": "code",
   "execution_count": null,
   "metadata": {},
   "outputs": [],
   "source": []
  },
  {
   "cell_type": "code",
   "execution_count": null,
   "metadata": {},
   "outputs": [],
   "source": []
  },
  {
   "cell_type": "code",
   "execution_count": null,
   "metadata": {},
   "outputs": [],
   "source": []
  },
  {
   "cell_type": "code",
   "execution_count": null,
   "metadata": {},
   "outputs": [],
   "source": []
  },
  {
   "cell_type": "code",
   "execution_count": null,
   "metadata": {},
   "outputs": [],
   "source": []
  },
  {
   "cell_type": "code",
   "execution_count": null,
   "metadata": {},
   "outputs": [],
   "source": []
  },
  {
   "cell_type": "code",
   "execution_count": null,
   "metadata": {},
   "outputs": [],
   "source": []
  },
  {
   "cell_type": "code",
   "execution_count": null,
   "metadata": {},
   "outputs": [],
   "source": []
  },
  {
   "cell_type": "code",
   "execution_count": null,
   "metadata": {},
   "outputs": [],
   "source": []
  },
  {
   "cell_type": "code",
   "execution_count": null,
   "id": "f3dffee1",
   "metadata": {},
   "outputs": [],
   "source": []
  },
  {
   "cell_type": "code",
   "execution_count": null,
   "metadata": {},
   "outputs": [],
   "source": []
  },
  {
   "cell_type": "code",
   "execution_count": null,
   "metadata": {},
   "outputs": [],
   "source": []
  },
  {
   "cell_type": "code",
   "execution_count": null,
   "metadata": {},
   "outputs": [],
   "source": []
  },
  {
   "cell_type": "code",
   "execution_count": null,
   "metadata": {},
   "outputs": [],
   "source": []
  },
  {
   "cell_type": "code",
   "execution_count": null,
   "metadata": {},
   "outputs": [],
   "source": []
  },
  {
   "cell_type": "code",
   "execution_count": null,
   "metadata": {},
   "outputs": [],
   "source": []
  },
  {
   "cell_type": "code",
   "execution_count": null,
   "id": "7d879839",
   "metadata": {},
   "outputs": [],
   "source": []
  },
  {
   "cell_type": "code",
   "execution_count": null,
   "metadata": {},
   "outputs": [],
   "source": []
  },
  {
   "cell_type": "code",
   "execution_count": null,
   "metadata": {},
   "outputs": [],
   "source": []
  },
  {
   "cell_type": "code",
   "execution_count": null,
   "id": "ae739a4c",
   "metadata": {},
   "outputs": [],
   "source": []
  }
 ],
 "metadata": {
  "kernelspec": {
   "display_name": "agents",
   "language": "python",
   "name": "python3"
  },
  "language_info": {
   "codemirror_mode": {
    "name": "ipython",
    "version": 3
   },
   "file_extension": ".py",
   "mimetype": "text/x-python",
   "name": "python",
   "nbconvert_exporter": "python",
   "pygments_lexer": "ipython3",
   "version": "3.12.0"
  }
 },
 "nbformat": 4,
 "nbformat_minor": 5
}
