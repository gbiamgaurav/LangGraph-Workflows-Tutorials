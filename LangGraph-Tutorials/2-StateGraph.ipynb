{
 "cells": [
  {
   "cell_type": "code",
   "execution_count": 59,
   "id": "14188122",
   "metadata": {},
   "outputs": [
    {
     "data": {
      "text/plain": [
       "True"
      ]
     },
     "execution_count": 59,
     "metadata": {},
     "output_type": "execute_result"
    }
   ],
   "source": [
    "import os \n",
    "from dotenv import load_dotenv\n",
    "load_dotenv()"
   ]
  },
  {
   "cell_type": "code",
   "execution_count": 60,
   "id": "87835411",
   "metadata": {},
   "outputs": [],
   "source": [
    "from langchain_openai import AzureChatOpenAI\n",
    "\n",
    "llm = AzureChatOpenAI(\n",
    "    azure_endpoint=os.getenv(\"AZURE_OPENAI_ENDPOINT\"),\n",
    "    azure_deployment=os.getenv(\"AZURE_OPENAI_DEPLOYMENT_NAME\"),\n",
    "    api_version=os.getenv(\"AZURE_OPENAI_API_VERSION\"),\n",
    "    api_key=os.getenv(\"AZURE_OPENAI_API_KEY\")\n",
    ")"
   ]
  },
  {
   "cell_type": "code",
   "execution_count": 61,
   "id": "e6b66130",
   "metadata": {},
   "outputs": [
    {
     "name": "stdout",
     "output_type": "stream",
     "text": [
      "Hello! How can I assist you today?\n"
     ]
    }
   ],
   "source": [
    "result = llm.invoke(\"Hi\")\n",
    "print(result.content)"
   ]
  },
  {
   "cell_type": "code",
   "execution_count": 62,
   "id": "9ae5b231",
   "metadata": {},
   "outputs": [],
   "source": [
    "from langgraph.graph import StateGraph, START, END"
   ]
  },
  {
   "cell_type": "markdown",
   "id": "f8852d44",
   "metadata": {},
   "source": [
    "#### Implementation using Pydantic"
   ]
  },
  {
   "cell_type": "code",
   "execution_count": 63,
   "id": "e676942e",
   "metadata": {},
   "outputs": [],
   "source": [
    "from pydantic import BaseModel\n",
    "\n",
    "class MathState(BaseModel):\n",
    "    num1: float\n",
    "    num2: float\n",
    "    sum_result: float = 0\n",
    "    final_result: float = 0"
   ]
  },
  {
   "cell_type": "code",
   "execution_count": 64,
   "id": "a885ed9d",
   "metadata": {},
   "outputs": [],
   "source": [
    "# Define node functions\n",
    "\n",
    "def add_numbers(state: MathState) -> MathState:\n",
    "    state.sum_result = state.num1 + state.num2 \n",
    "    return state \n",
    "\n",
    "\n",
    "def multiply_result(state: MathState) -> MathState:\n",
    "    state.final_result = state.sum_result * 2 \n",
    "    return state"
   ]
  },
  {
   "cell_type": "code",
   "execution_count": 65,
   "id": "44b8ef56",
   "metadata": {},
   "outputs": [],
   "source": [
    "from langgraph.graph import Graph, START, END\n",
    "graph = Graph()\n",
    "\n",
    "# Add Nodes\n",
    "graph.add_node(\"add_numbers\", add_numbers)\n",
    "graph.add_node(\"multiply_result\", multiply_result)\n",
    "\n",
    "# Add Edges\n",
    "graph.add_edge(\"add_numbers\", \"multiply_result\")\n",
    "\n",
    "# START\n",
    "graph.add_edge(START, \"add_numbers\")\n",
    "\n",
    "# END\n",
    "graph.add_edge(\"multiply_result\", END)\n",
    "\n",
    "# Compile\n",
    "app = graph.compile()"
   ]
  },
  {
   "cell_type": "code",
   "execution_count": 66,
   "id": "6cfb7037",
   "metadata": {},
   "outputs": [
    {
     "data": {
      "image/png": "[encoded data removed]",
      "text/plain": [
       "<IPython.core.display.Image object>"
      ]
     },
     "metadata": {},
     "output_type": "display_data"
    }
   ],
   "source": [
    "from IPython.display import Image, display\n",
    "\n",
    "display(Image(app.get_graph().draw_mermaid_png()))"
   ]
  },
  {
   "cell_type": "code",
   "execution_count": 67,
   "id": "049dabd1",
   "metadata": {},
   "outputs": [],
   "source": [
    "initial_state = MathState(num1=5, num2=3)\n",
    "final_state = app.invoke(initial_state)"
   ]
  },
  {
   "cell_type": "code",
   "execution_count": 68,
   "id": "11f0c4f0",
   "metadata": {},
   "outputs": [
    {
     "name": "stdout",
     "output_type": "stream",
     "text": [
      "Final Result: num1=5.0 num2=3.0 sum_result=8.0 final_result=16.0\n"
     ]
    }
   ],
   "source": [
    "print(f\"Final Result: {final_state}\")"
   ]
  },
  {
   "cell_type": "markdown",
   "id": "37e5ceaf",
   "metadata": {},
   "source": [
    "#### Implementation using TypedDict"
   ]
  },
  {
   "cell_type": "code",
   "execution_count": 69,
   "id": "82032942",
   "metadata": {},
   "outputs": [],
   "source": [
    "from typing import TypedDict\n",
    "\n",
    "class MathState(TypedDict):\n",
    "    num1: float\n",
    "    num2: float\n",
    "    sum_result: float = 0\n",
    "    final_result: float = 0"
   ]
  },
  {
   "cell_type": "code",
   "execution_count": 70,
   "id": "83f45696",
   "metadata": {},
   "outputs": [],
   "source": [
    "# Define node functions\n",
    "\n",
    "def add_numbers(state: MathState) -> MathState:\n",
    "    state['sum_result'] = state['num1'] + state['num2']\n",
    "    return state \n",
    "\n",
    "\n",
    "def multiply_result(state: MathState) -> MathState:\n",
    "    state['final_result'] = state['sum_result'] * 2 \n",
    "    return state"
   ]
  },
  {
   "cell_type": "code",
   "execution_count": 71,
   "metadata": {},
   "outputs": [],
   "source": [
    "from langgraph.graph import Graph, START, END\n",
    "graph = Graph()\n",
    "\n",
    "# Add Nodes\n",
    "graph.add_node(\"add_numbers\", add_numbers)\n",
    "graph.add_node(\"multiply_result\", multiply_result)\n",
    "\n",
    "# Add Edges\n",
    "graph.add_edge(\"add_numbers\", \"multiply_result\")\n",
    "\n",
    "# START\n",
    "graph.add_edge(START, \"add_numbers\")\n",
    "\n",
    "# END\n",
    "graph.add_edge(\"multiply_result\", END)\n",
    "\n",
    "# Compile\n",
    "app = graph.compile()"
   ]
  },
  {
   "cell_type": "code",
   "execution_count": 72,
   "metadata": {},
   "outputs": [
    {
     "data": {
      "image/png": "[encoded data removed]",
      "text/plain": [
       "<IPython.core.display.Image object>"
      ]
     },
     "metadata": {},
     "output_type": "display_data"
    }
   ],
   "source": [
    "from IPython.display import Image, display\n",
    "\n",
    "display(Image(app.get_graph().draw_mermaid_png()))"
   ]
  },
  {
   "cell_type": "code",
   "execution_count": 73,
   "metadata": {},
   "outputs": [
    {
     "name": "stdout",
     "output_type": "stream",
     "text": [
      "Final Result: {'num1': 5, 'num2': 3, 'sum_result': 8, 'final_result': 16}\n"
     ]
    }
   ],
   "source": [
    "initial_state = MathState(num1=5, num2=3)\n",
    "final_state = app.invoke(initial_state)\n",
    "\n",
    "print(f\"Final Result: {final_state}\")"
   ]
  },
  {
   "cell_type": "code",
   "execution_count": null,
   "metadata": {},
   "outputs": [],
   "source": []
  },
  {
   "cell_type": "code",
   "execution_count": null,
   "metadata": {},
   "outputs": [],
   "source": []
  },
  {
   "cell_type": "code",
   "execution_count": null,
   "metadata": {},
   "outputs": [],
   "source": []
  },
  {
   "cell_type": "code",
   "execution_count": null,
   "metadata": {},
   "outputs": [],
   "source": []
  },
  {
   "cell_type": "code",
   "execution_count": null,
   "id": "d9074026",
   "metadata": {},
   "outputs": [],
   "source": []
  },
  {
   "cell_type": "code",
   "execution_count": null,
   "metadata": {},
   "outputs": [],
   "source": []
  },
  {
   "cell_type": "code",
   "execution_count": null,
   "metadata": {},
   "outputs": [],
   "source": []
  },
  {
   "cell_type": "code",
   "execution_count": null,
   "id": "4c582207",
   "metadata": {},
   "outputs": [],
   "source": []
  },
  {
   "cell_type": "code",
   "execution_count": null,
   "id": "2060f94f",
   "metadata": {},
   "outputs": [],
   "source": []
  },
  {
   "cell_type": "code",
   "execution_count": null,
   "id": "dc084c7f",
   "metadata": {},
   "outputs": [],
   "source": []
  },
  {
   "cell_type": "code",
   "execution_count": null,
   "id": "225fdaed",
   "metadata": {},
   "outputs": [],
   "source": []
  },
  {
   "cell_type": "code",
   "execution_count": null,
   "id": "941cd1b2",
   "metadata": {},
   "outputs": [],
   "source": []
  },
  {
   "cell_type": "code",
   "execution_count": null,
   "metadata": {},
   "outputs": [],
   "source": []
  },
  {
   "cell_type": "code",
   "execution_count": null,
   "metadata": {},
   "outputs": [],
   "source": []
  },
  {
   "cell_type": "code",
   "execution_count": null,
   "id": "26923f72",
   "metadata": {},
   "outputs": [],
   "source": []
  },
  {
   "cell_type": "code",
   "execution_count": null,
   "id": "16171065",
   "metadata": {},
   "outputs": [],
   "source": []
  }
 ],
 "metadata": {
  "kernelspec": {
   "display_name": "agents",
   "language": "python",
   "name": "python3"
  },
  "language_info": {
   "codemirror_mode": {
    "name": "ipython",
    "version": 3
   },
   "file_extension": ".py",
   "mimetype": "text/x-python",
   "name": "python",
   "nbconvert_exporter": "python",
   "pygments_lexer": "ipython3",
   "version": "3.12.0"
  }
 },
 "nbformat": 4,
 "nbformat_minor": 5
}
